{
 "cells": [
  {
   "cell_type": "code",
   "execution_count": null,
   "id": "33f0b78a",
   "metadata": {},
   "outputs": [],
   "source": [
    "d = {\"key\" : \"value\" , \"key_1\":\"value_1\"}"
   ]
  }
 ],
 "metadata": {
  "language_info": {
   "name": "python"
  }
 },
 "nbformat": 4,
 "nbformat_minor": 5
}
