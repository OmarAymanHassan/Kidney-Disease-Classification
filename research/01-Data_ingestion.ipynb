{
 "cells": [
  {
   "cell_type": "code",
   "execution_count": 1,
   "id": "a5d2b133",
   "metadata": {},
   "outputs": [],
   "source": [
    "\n",
    "import os \n"
   ]
  },
  {
   "cell_type": "code",
   "execution_count": 2,
   "id": "e11fa70e",
   "metadata": {},
   "outputs": [
    {
     "data": {
      "text/plain": [
       "'d:\\\\ITI\\\\DS Track\\\\Deep Learning\\\\Projects\\\\Kidney Classification\\\\Kidney-Disease-Classification\\\\research'"
      ]
     },
     "execution_count": 2,
     "metadata": {},
     "output_type": "execute_result"
    }
   ],
   "source": [
    "%pwd"
   ]
  },
  {
   "cell_type": "code",
   "execution_count": 3,
   "id": "ec212ba6",
   "metadata": {},
   "outputs": [
    {
     "data": {
      "text/plain": [
       "'d:\\\\ITI\\\\DS Track\\\\Deep Learning\\\\Projects\\\\Kidney Classification\\\\Kidney-Disease-Classification'"
      ]
     },
     "execution_count": 3,
     "metadata": {},
     "output_type": "execute_result"
    }
   ],
   "source": [
    "#chdir --> change directory\n",
    "os.chdir(\"../\")\n",
    "%pwd"
   ]
  },
  {
   "cell_type": "code",
   "execution_count": null,
   "id": "1f7d8fc9",
   "metadata": {},
   "outputs": [],
   "source": []
  },
  {
   "cell_type": "markdown",
   "id": "3af60152",
   "metadata": {},
   "source": [
    "# Constant file"
   ]
  },
  {
   "cell_type": "code",
   "execution_count": 4,
   "id": "588968be",
   "metadata": {},
   "outputs": [],
   "source": [
    "from dataclasses import dataclass\n",
    "from pathlib import Path"
   ]
  },
  {
   "cell_type": "code",
   "execution_count": 5,
   "id": "d8bb9a83",
   "metadata": {},
   "outputs": [],
   "source": [
    "@dataclass(frozen=True)\n",
    "class DataIngestionConfig:\n",
    "    root_dir:Path\n",
    "    source_url:str\n",
    "    local_data_files:Path\n",
    "    unzip_dir:Path"
   ]
  },
  {
   "cell_type": "code",
   "execution_count": null,
   "id": "218fe52e",
   "metadata": {},
   "outputs": [],
   "source": []
  },
  {
   "cell_type": "code",
   "execution_count": 6,
   "id": "bb32ecfa",
   "metadata": {},
   "outputs": [],
   "source": [
    "from src.CNNClassifierKidneyDiseases.constants import *\n"
   ]
  },
  {
   "cell_type": "code",
   "execution_count": 7,
   "id": "347e3780",
   "metadata": {},
   "outputs": [],
   "source": [
    "from src.CNNClassifierKidneyDiseases.utils.common import read_yaml , create_directories"
   ]
  },
  {
   "cell_type": "code",
   "execution_count": 8,
   "id": "8c6e2a4c",
   "metadata": {},
   "outputs": [],
   "source": [
    "class ConfigurationManager:\n",
    "    def __init__(self, config_filepath=CONFIG_FILE_PATH , params_filepath=PARAMS_FILE_PATH):\n",
    "        self.config = read_yaml(config_filepath)\n",
    "        self.params = read_yaml(params_filepath)\n",
    "        create_directories([self.config.artifact_root])\n",
    "\n",
    "\n",
    "    def get_data_ingestion_config(self)->DataIngestionConfig:\n",
    "        config = self.config.data_ingestion\n",
    "        create_directories([config.root_dir])\n",
    "\n",
    "        data_ingestion_config = DataIngestionConfig(\n",
    "        root_dir = config.root_dir,\n",
    "        source_url = config.source_url,\n",
    "        local_data_files = config.local_data_files,\n",
    "        unzip_dir = config.unzip_dir\n",
    "        )\n",
    "\n",
    "        return data_ingestion_config\n"
   ]
  },
  {
   "cell_type": "code",
   "execution_count": null,
   "id": "0865d1b5",
   "metadata": {},
   "outputs": [],
   "source": []
  },
  {
   "cell_type": "markdown",
   "id": "62afbd13",
   "metadata": {},
   "source": [
    "# Component File"
   ]
  },
  {
   "cell_type": "code",
   "execution_count": 9,
   "id": "f22d5977",
   "metadata": {},
   "outputs": [],
   "source": [
    "import os\n",
    "import urllib.request as request\n",
    "import zipfile\n",
    "from src.CNNClassifierKidneyDiseases import logger\n",
    "from src.CNNClassifierKidneyDiseases.utils.common import get_size\n",
    "import gdown"
   ]
  },
  {
   "cell_type": "code",
   "execution_count": 16,
   "id": "8d1dceed",
   "metadata": {},
   "outputs": [],
   "source": [
    "# the first thing that this class take is the config from the \n",
    "# DataClassConfiguration \n",
    "class DataIngestion:\n",
    "    def __init__(self, config:DataIngestionConfig):\n",
    "        self.config = config\n",
    "\n",
    "\n",
    "    def download_file(self)->str:\n",
    "        \"\"\"\n",
    "            Fetch Data from the url\n",
    "        \"\"\"\n",
    "\n",
    "        try:\n",
    "            dataset_url = self.config.source_url\n",
    "            zip_download_dir = self.config.local_data_files\n",
    "            os.makedirs(self.config.root_dir , exist_ok=True)\n",
    "            logger.info(f\"Downloading Data from {dataset_url} into file {zip_download_dir}\")\n",
    "\n",
    "            file_id = dataset_url.split(\"/\")[-2]\n",
    "            prefix ='https://drive.google.com/uc?/export=download&id='\n",
    "            gdown.download(prefix+file_id , zip_download_dir)\n",
    "\n",
    "            logger.info(f\"Downloaded data from {dataset_url} into file {zip_download_dir}\")\n",
    "\n",
    "        except Exception as e:\n",
    "            raise e\n",
    "\n",
    "    def extraxt_zip_file(self):\n",
    "\n",
    "        unzip_path = self.config.unzip_dir\n",
    "        os.makedirs(unzip_path,exist_ok = True)\n",
    "        with zipfile.ZipFile(self.config.local_data_files , \"r\")as zip_ref:\n",
    "            zip_ref.extractall(unzip_path)\n",
    "\n",
    "\n",
    "\n"
   ]
  },
  {
   "cell_type": "code",
   "execution_count": null,
   "id": "135ee5f8",
   "metadata": {},
   "outputs": [],
   "source": []
  },
  {
   "cell_type": "markdown",
   "id": "794b3bfe",
   "metadata": {},
   "source": [
    "# Pipeline\n",
    "\n",
    "1. Download The file\n",
    "2. Extract the zipfile\n"
   ]
  },
  {
   "cell_type": "code",
   "execution_count": 18,
   "id": "5c71fdfc",
   "metadata": {},
   "outputs": [
    {
     "name": "stdout",
     "output_type": "stream",
     "text": [
      "[2025-07-05 21:20:06,411: INFO: common: yaml file config\\config.yaml loaded successfully]\n",
      "[2025-07-05 21:20:06,414: INFO: common: yaml file params.yaml loaded successfully]\n",
      "[2025-07-05 21:20:06,418: INFO: common: Created Directory at : artifacts]\n",
      "[2025-07-05 21:20:06,420: INFO: common: Created Directory at : artifacts/data_ingestion]\n"
     ]
    }
   ],
   "source": [
    "try:\n",
    "    config = ConfigurationManager()\n",
    "    data_ingestion_config = config.get_data_ingestion_config()\n",
    "    # it automatic take the args from the constant variales that assigned\n",
    "    #those assignment : CONFIG_FILE_PATH , PARAMS_FILE_PATH\n",
    "    data_ingestion = DataIngestion(config= data_ingestion_config)\n",
    "    #data_ingestion.download_file()\n",
    "    data_ingestion.extraxt_zip_file()\n",
    "except Exception as e:\n",
    "    raise e"
   ]
  }
 ],
 "metadata": {
  "kernelspec": {
   "display_name": "KidneyClassification",
   "language": "python",
   "name": "myenv"
  },
  "language_info": {
   "codemirror_mode": {
    "name": "ipython",
    "version": 3
   },
   "file_extension": ".py",
   "mimetype": "text/x-python",
   "name": "python",
   "nbconvert_exporter": "python",
   "pygments_lexer": "ipython3",
   "version": "3.12.10"
  }
 },
 "nbformat": 4,
 "nbformat_minor": 5
}
